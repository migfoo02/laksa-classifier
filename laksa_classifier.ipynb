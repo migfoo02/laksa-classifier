{
  "nbformat": 4,
  "nbformat_minor": 0,
  "metadata": {
    "colab": {
      "provenance": [],
      "mount_file_id": "1MkXdtrJkBa1Fjn1NGf7rXV-IFHWlRtxN",
      "authorship_tag": "ABX9TyPvxvYrS4n84nYpkT7OdxxF",
      "include_colab_link": true
    },
    "kernelspec": {
      "name": "python3",
      "display_name": "Python 3"
    },
    "language_info": {
      "name": "python"
    },
    "widgets": {
      "application/vnd.jupyter.widget-state+json": {
        "4ab2157fbc0047dda2809575ee8a866f": {
          "model_module": "@jupyter-widgets/controls",
          "model_name": "VBoxModel",
          "model_module_version": "1.5.0",
          "state": {
            "_dom_classes": [],
            "_model_module": "@jupyter-widgets/controls",
            "_model_module_version": "1.5.0",
            "_model_name": "VBoxModel",
            "_view_count": null,
            "_view_module": "@jupyter-widgets/controls",
            "_view_module_version": "1.5.0",
            "_view_name": "VBoxView",
            "box_style": "",
            "children": [
              "IPY_MODEL_eb757c95fb8142beb4b96c09fe8a8e81",
              "IPY_MODEL_a04db858da414138b7f84becc7f399d8",
              "IPY_MODEL_0c302e1021fe4195af3fe60be074e198",
              "IPY_MODEL_cf94c471a23f4fa88688b5ac49880d8c"
            ],
            "layout": "IPY_MODEL_1072d4d4707740a489a87a446d83ae0c"
          }
        },
        "eb757c95fb8142beb4b96c09fe8a8e81": {
          "model_module": "@jupyter-widgets/controls",
          "model_name": "LabelModel",
          "model_module_version": "1.5.0",
          "state": {
            "_dom_classes": [],
            "_model_module": "@jupyter-widgets/controls",
            "_model_module_version": "1.5.0",
            "_model_name": "LabelModel",
            "_view_count": null,
            "_view_module": "@jupyter-widgets/controls",
            "_view_module_version": "1.5.0",
            "_view_name": "LabelView",
            "description": "",
            "description_tooltip": null,
            "layout": "IPY_MODEL_75d9672494854680aa628f123532d5be",
            "placeholder": "​",
            "style": "IPY_MODEL_3d4f98652ed840e38e27ff44b8c8f36d",
            "value": "Select your laksa!"
          }
        },
        "a04db858da414138b7f84becc7f399d8": {
          "model_module": "@jupyter-widgets/controls",
          "model_name": "FileUploadModel",
          "model_module_version": "1.5.0",
          "state": {
            "_counter": 1,
            "_dom_classes": [],
            "_model_module": "@jupyter-widgets/controls",
            "_model_module_version": "1.5.0",
            "_model_name": "FileUploadModel",
            "_view_count": null,
            "_view_module": "@jupyter-widgets/controls",
            "_view_module_version": "1.5.0",
            "_view_name": "FileUploadView",
            "accept": "",
            "button_style": "",
            "data": [
              null
            ],
            "description": "Upload",
            "description_tooltip": null,
            "disabled": false,
            "error": "",
            "icon": "upload",
            "layout": "IPY_MODEL_b2806833ed9048129ba91d46f98c9839",
            "metadata": [
              {
                "name": "test_laksa.png",
                "type": "image/png",
                "size": 880690,
                "lastModified": 1704214119659
              }
            ],
            "multiple": false,
            "style": "IPY_MODEL_665c981c9d014491b478e709ba6fc9cc"
          }
        },
        "0c302e1021fe4195af3fe60be074e198": {
          "model_module": "@jupyter-widgets/output",
          "model_name": "OutputModel",
          "model_module_version": "1.0.0",
          "state": {
            "_dom_classes": [],
            "_model_module": "@jupyter-widgets/output",
            "_model_module_version": "1.0.0",
            "_model_name": "OutputModel",
            "_view_count": null,
            "_view_module": "@jupyter-widgets/output",
            "_view_module_version": "1.0.0",
            "_view_name": "OutputView",
            "layout": "IPY_MODEL_22dc43c5da0e44e490cfe9490daf588a",
            "msg_id": "",
            "outputs": [
              {
                "output_type": "display_data",
                "data": {
                  "text/plain": "<PIL.Image.Image image mode=RGB size=128x85>",
                  "image/png": "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\n"
                },
                "metadata": {}
              }
            ]
          }
        },
        "cf94c471a23f4fa88688b5ac49880d8c": {
          "model_module": "@jupyter-widgets/controls",
          "model_name": "LabelModel",
          "model_module_version": "1.5.0",
          "state": {
            "_dom_classes": [],
            "_model_module": "@jupyter-widgets/controls",
            "_model_module_version": "1.5.0",
            "_model_name": "LabelModel",
            "_view_count": null,
            "_view_module": "@jupyter-widgets/controls",
            "_view_module_version": "1.5.0",
            "_view_name": "LabelView",
            "description": "",
            "description_tooltip": null,
            "layout": "IPY_MODEL_a73c51ae3a8b40c2ab53a480bfb9f993",
            "placeholder": "​",
            "style": "IPY_MODEL_afbab17f1f5241cbb71b971d2737c6a5",
            "value": "Prediction: sarawak; Probability: 0.7672"
          }
        },
        "1072d4d4707740a489a87a446d83ae0c": {
          "model_module": "@jupyter-widgets/base",
          "model_name": "LayoutModel",
          "model_module_version": "1.2.0",
          "state": {
            "_model_module": "@jupyter-widgets/base",
            "_model_module_version": "1.2.0",
            "_model_name": "LayoutModel",
            "_view_count": null,
            "_view_module": "@jupyter-widgets/base",
            "_view_module_version": "1.2.0",
            "_view_name": "LayoutView",
            "align_content": null,
            "align_items": null,
            "align_self": null,
            "border": null,
            "bottom": null,
            "display": null,
            "flex": null,
            "flex_flow": null,
            "grid_area": null,
            "grid_auto_columns": null,
            "grid_auto_flow": null,
            "grid_auto_rows": null,
            "grid_column": null,
            "grid_gap": null,
            "grid_row": null,
            "grid_template_areas": null,
            "grid_template_columns": null,
            "grid_template_rows": null,
            "height": null,
            "justify_content": null,
            "justify_items": null,
            "left": null,
            "margin": null,
            "max_height": null,
            "max_width": null,
            "min_height": null,
            "min_width": null,
            "object_fit": null,
            "object_position": null,
            "order": null,
            "overflow": null,
            "overflow_x": null,
            "overflow_y": null,
            "padding": null,
            "right": null,
            "top": null,
            "visibility": null,
            "width": null
          }
        },
        "75d9672494854680aa628f123532d5be": {
          "model_module": "@jupyter-widgets/base",
          "model_name": "LayoutModel",
          "model_module_version": "1.2.0",
          "state": {
            "_model_module": "@jupyter-widgets/base",
            "_model_module_version": "1.2.0",
            "_model_name": "LayoutModel",
            "_view_count": null,
            "_view_module": "@jupyter-widgets/base",
            "_view_module_version": "1.2.0",
            "_view_name": "LayoutView",
            "align_content": null,
            "align_items": null,
            "align_self": null,
            "border": null,
            "bottom": null,
            "display": null,
            "flex": null,
            "flex_flow": null,
            "grid_area": null,
            "grid_auto_columns": null,
            "grid_auto_flow": null,
            "grid_auto_rows": null,
            "grid_column": null,
            "grid_gap": null,
            "grid_row": null,
            "grid_template_areas": null,
            "grid_template_columns": null,
            "grid_template_rows": null,
            "height": null,
            "justify_content": null,
            "justify_items": null,
            "left": null,
            "margin": null,
            "max_height": null,
            "max_width": null,
            "min_height": null,
            "min_width": null,
            "object_fit": null,
            "object_position": null,
            "order": null,
            "overflow": null,
            "overflow_x": null,
            "overflow_y": null,
            "padding": null,
            "right": null,
            "top": null,
            "visibility": null,
            "width": null
          }
        },
        "3d4f98652ed840e38e27ff44b8c8f36d": {
          "model_module": "@jupyter-widgets/controls",
          "model_name": "DescriptionStyleModel",
          "model_module_version": "1.5.0",
          "state": {
            "_model_module": "@jupyter-widgets/controls",
            "_model_module_version": "1.5.0",
            "_model_name": "DescriptionStyleModel",
            "_view_count": null,
            "_view_module": "@jupyter-widgets/base",
            "_view_module_version": "1.2.0",
            "_view_name": "StyleView",
            "description_width": ""
          }
        },
        "b2806833ed9048129ba91d46f98c9839": {
          "model_module": "@jupyter-widgets/base",
          "model_name": "LayoutModel",
          "model_module_version": "1.2.0",
          "state": {
            "_model_module": "@jupyter-widgets/base",
            "_model_module_version": "1.2.0",
            "_model_name": "LayoutModel",
            "_view_count": null,
            "_view_module": "@jupyter-widgets/base",
            "_view_module_version": "1.2.0",
            "_view_name": "LayoutView",
            "align_content": null,
            "align_items": null,
            "align_self": null,
            "border": null,
            "bottom": null,
            "display": null,
            "flex": null,
            "flex_flow": null,
            "grid_area": null,
            "grid_auto_columns": null,
            "grid_auto_flow": null,
            "grid_auto_rows": null,
            "grid_column": null,
            "grid_gap": null,
            "grid_row": null,
            "grid_template_areas": null,
            "grid_template_columns": null,
            "grid_template_rows": null,
            "height": null,
            "justify_content": null,
            "justify_items": null,
            "left": null,
            "margin": null,
            "max_height": null,
            "max_width": null,
            "min_height": null,
            "min_width": null,
            "object_fit": null,
            "object_position": null,
            "order": null,
            "overflow": null,
            "overflow_x": null,
            "overflow_y": null,
            "padding": null,
            "right": null,
            "top": null,
            "visibility": null,
            "width": null
          }
        },
        "665c981c9d014491b478e709ba6fc9cc": {
          "model_module": "@jupyter-widgets/controls",
          "model_name": "ButtonStyleModel",
          "model_module_version": "1.5.0",
          "state": {
            "_model_module": "@jupyter-widgets/controls",
            "_model_module_version": "1.5.0",
            "_model_name": "ButtonStyleModel",
            "_view_count": null,
            "_view_module": "@jupyter-widgets/base",
            "_view_module_version": "1.2.0",
            "_view_name": "StyleView",
            "button_color": null,
            "font_weight": ""
          }
        },
        "a73c51ae3a8b40c2ab53a480bfb9f993": {
          "model_module": "@jupyter-widgets/base",
          "model_name": "LayoutModel",
          "model_module_version": "1.2.0",
          "state": {
            "_model_module": "@jupyter-widgets/base",
            "_model_module_version": "1.2.0",
            "_model_name": "LayoutModel",
            "_view_count": null,
            "_view_module": "@jupyter-widgets/base",
            "_view_module_version": "1.2.0",
            "_view_name": "LayoutView",
            "align_content": null,
            "align_items": null,
            "align_self": null,
            "border": null,
            "bottom": null,
            "display": null,
            "flex": null,
            "flex_flow": null,
            "grid_area": null,
            "grid_auto_columns": null,
            "grid_auto_flow": null,
            "grid_auto_rows": null,
            "grid_column": null,
            "grid_gap": null,
            "grid_row": null,
            "grid_template_areas": null,
            "grid_template_columns": null,
            "grid_template_rows": null,
            "height": null,
            "justify_content": null,
            "justify_items": null,
            "left": null,
            "margin": null,
            "max_height": null,
            "max_width": null,
            "min_height": null,
            "min_width": null,
            "object_fit": null,
            "object_position": null,
            "order": null,
            "overflow": null,
            "overflow_x": null,
            "overflow_y": null,
            "padding": null,
            "right": null,
            "top": null,
            "visibility": null,
            "width": null
          }
        },
        "afbab17f1f5241cbb71b971d2737c6a5": {
          "model_module": "@jupyter-widgets/controls",
          "model_name": "DescriptionStyleModel",
          "model_module_version": "1.5.0",
          "state": {
            "_model_module": "@jupyter-widgets/controls",
            "_model_module_version": "1.5.0",
            "_model_name": "DescriptionStyleModel",
            "_view_count": null,
            "_view_module": "@jupyter-widgets/base",
            "_view_module_version": "1.2.0",
            "_view_name": "StyleView",
            "description_width": ""
          }
        },
        "22dc43c5da0e44e490cfe9490daf588a": {
          "model_module": "@jupyter-widgets/base",
          "model_name": "LayoutModel",
          "model_module_version": "1.2.0",
          "state": {
            "_model_module": "@jupyter-widgets/base",
            "_model_module_version": "1.2.0",
            "_model_name": "LayoutModel",
            "_view_count": null,
            "_view_module": "@jupyter-widgets/base",
            "_view_module_version": "1.2.0",
            "_view_name": "LayoutView",
            "align_content": null,
            "align_items": null,
            "align_self": null,
            "border": null,
            "bottom": null,
            "display": null,
            "flex": null,
            "flex_flow": null,
            "grid_area": null,
            "grid_auto_columns": null,
            "grid_auto_flow": null,
            "grid_auto_rows": null,
            "grid_column": null,
            "grid_gap": null,
            "grid_row": null,
            "grid_template_areas": null,
            "grid_template_columns": null,
            "grid_template_rows": null,
            "height": null,
            "justify_content": null,
            "justify_items": null,
            "left": null,
            "margin": null,
            "max_height": null,
            "max_width": null,
            "min_height": null,
            "min_width": null,
            "object_fit": null,
            "object_position": null,
            "order": null,
            "overflow": null,
            "overflow_x": null,
            "overflow_y": null,
            "padding": null,
            "right": null,
            "top": null,
            "visibility": null,
            "width": null
          }
        }
      }
    }
  },
  "cells": [
    {
      "cell_type": "markdown",
      "metadata": {
        "id": "view-in-github",
        "colab_type": "text"
      },
      "source": [
        "<a href=\"https://colab.research.google.com/github/migfoo02/laksa-classifier/blob/main/laksa_classifier_deployed.ipynb\" target=\"_parent\"><img src=\"https://colab.research.google.com/assets/colab-badge.svg\" alt=\"Open In Colab\"/></a>"
      ]
    },
    {
      "cell_type": "code",
      "source": [
        "from fastai.vision.all import *\n",
        "from fastai.vision.widgets import *"
      ],
      "metadata": {
        "id": "N4pwiO-W6UIX"
      },
      "execution_count": 11,
      "outputs": []
    },
    {
      "cell_type": "markdown",
      "source": [
        "# The Delicious Laksa Classifier!\n",
        "\n",
        "Trying to settle the debate on which laksa is the best with your stubborn Singaporean/Sarakawakian/Penangite friend but can't seem to tell the difference between them? Do they all start to look the same after searching for hundreds of images of laksa to prove your point?\n",
        "\n",
        "Don't worry! Just take a pic of your (allegedly) superior laksa and upload it here to identify its type!\n",
        "\n",
        "Note: This classifier only works for Singapore, Sarawak and Penang laksa ( ̶t̶h̶e̶ ̶o̶n̶l̶y̶ ̶o̶n̶e̶s̶ ̶t̶h̶a̶t̶ ̶m̶a̶t̶t̶e̶r̶)"
      ],
      "metadata": {
        "id": "thufg1Mf6Xps"
      }
    },
    {
      "cell_type": "code",
      "source": [
        "path = Path()\n",
        "learn_inf = load_learner(path/'export.pkl')\n",
        "btn_upload = widgets.FileUpload()\n",
        "out_pl = widgets.Output()\n",
        "lbl_pred = widgets.Label()"
      ],
      "metadata": {
        "id": "0uaaZdbC8DFW"
      },
      "execution_count": 17,
      "outputs": []
    },
    {
      "cell_type": "code",
      "source": [
        "def on_data_change(change):\n",
        "    lbl_pred.value = ''\n",
        "    img = PILImage.create(btn_upload.data[-1])\n",
        "    out_pl.clear_output()\n",
        "    with out_pl: display(img.to_thumb(128,128))\n",
        "    pred,pred_idx,probs = learn_inf.predict(img)\n",
        "    lbl_pred.value = f'Prediction: {pred}; Probability: {probs[pred_idx]:.04f}'"
      ],
      "metadata": {
        "id": "RjEG88Vl8UJn"
      },
      "execution_count": 18,
      "outputs": []
    },
    {
      "cell_type": "code",
      "source": [
        "btn_upload.observe(on_data_change, names=['data'])"
      ],
      "metadata": {
        "id": "LxmwbFmp8YBP"
      },
      "execution_count": 19,
      "outputs": []
    },
    {
      "cell_type": "code",
      "source": [
        "display(VBox([widgets.Label('Select your laksa!'), btn_upload, out_pl, lbl_pred]))"
      ],
      "metadata": {
        "colab": {
          "base_uri": "https://localhost:8080/",
          "height": 254,
          "referenced_widgets": [
            "4ab2157fbc0047dda2809575ee8a866f",
            "eb757c95fb8142beb4b96c09fe8a8e81",
            "a04db858da414138b7f84becc7f399d8",
            "0c302e1021fe4195af3fe60be074e198",
            "cf94c471a23f4fa88688b5ac49880d8c",
            "1072d4d4707740a489a87a446d83ae0c",
            "75d9672494854680aa628f123532d5be",
            "3d4f98652ed840e38e27ff44b8c8f36d",
            "b2806833ed9048129ba91d46f98c9839",
            "665c981c9d014491b478e709ba6fc9cc",
            "a73c51ae3a8b40c2ab53a480bfb9f993",
            "afbab17f1f5241cbb71b971d2737c6a5",
            "22dc43c5da0e44e490cfe9490daf588a"
          ]
        },
        "id": "WTI4oiSo8bBk",
        "outputId": "1d3914f0-2735-4433-d42c-e483bce197fc"
      },
      "execution_count": 20,
      "outputs": [
        {
          "output_type": "display_data",
          "data": {
            "text/plain": [
              "VBox(children=(Label(value='Select your laksa!'), FileUpload(value={}, description='Upload'), Output(), Label(…"
            ],
            "application/vnd.jupyter.widget-view+json": {
              "version_major": 2,
              "version_minor": 0,
              "model_id": "4ab2157fbc0047dda2809575ee8a866f"
            }
          },
          "metadata": {}
        },
        {
          "output_type": "stream",
          "name": "stderr",
          "text": [
            "/usr/local/lib/python3.10/dist-packages/fastai/torch_core.py:263: UserWarning: 'has_mps' is deprecated, please use 'torch.backends.mps.is_built()'\n",
            "  return getattr(torch, 'has_mps', False)\n"
          ]
        },
        {
          "output_type": "display_data",
          "data": {
            "text/plain": [
              "<IPython.core.display.HTML object>"
            ],
            "text/html": [
              "\n",
              "<style>\n",
              "    /* Turns off some styling */\n",
              "    progress {\n",
              "        /* gets rid of default border in Firefox and Opera. */\n",
              "        border: none;\n",
              "        /* Needs to be in here for Safari polyfill so background images work as expected. */\n",
              "        background-size: auto;\n",
              "    }\n",
              "    progress:not([value]), progress:not([value])::-webkit-progress-bar {\n",
              "        background: repeating-linear-gradient(45deg, #7e7e7e, #7e7e7e 10px, #5c5c5c 10px, #5c5c5c 20px);\n",
              "    }\n",
              "    .progress-bar-interrupted, .progress-bar-interrupted::-webkit-progress-bar {\n",
              "        background: #F44336;\n",
              "    }\n",
              "</style>\n"
            ]
          },
          "metadata": {}
        },
        {
          "output_type": "display_data",
          "data": {
            "text/plain": [
              "<IPython.core.display.HTML object>"
            ],
            "text/html": []
          },
          "metadata": {}
        }
      ]
    }
  ]
}
